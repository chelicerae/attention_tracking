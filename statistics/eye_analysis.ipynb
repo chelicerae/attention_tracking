{
 "cells": [
  {
   "cell_type": "code",
   "execution_count": 1,
   "id": "b6dcab43",
   "metadata": {},
   "outputs": [
    {
     "data": {
      "application/javascript": [
       "\n",
       "            setTimeout(function() {\n",
       "                var nbb_cell_id = 1;\n",
       "                var nbb_unformatted_code = \"%load_ext nb_black\";\n",
       "                var nbb_formatted_code = \"%load_ext nb_black\";\n",
       "                var nbb_cells = Jupyter.notebook.get_cells();\n",
       "                for (var i = 0; i < nbb_cells.length; ++i) {\n",
       "                    if (nbb_cells[i].input_prompt_number == nbb_cell_id) {\n",
       "                        if (nbb_cells[i].get_text() == nbb_unformatted_code) {\n",
       "                             nbb_cells[i].set_text(nbb_formatted_code);\n",
       "                        }\n",
       "                        break;\n",
       "                    }\n",
       "                }\n",
       "            }, 500);\n",
       "            "
      ],
      "text/plain": [
       "<IPython.core.display.Javascript object>"
      ]
     },
     "metadata": {},
     "output_type": "display_data"
    }
   ],
   "source": [
    "%load_ext nb_black"
   ]
  },
  {
   "cell_type": "code",
   "execution_count": 2,
   "id": "9a8d3ab4",
   "metadata": {},
   "outputs": [
    {
     "data": {
      "application/javascript": [
       "\n",
       "            setTimeout(function() {\n",
       "                var nbb_cell_id = 2;\n",
       "                var nbb_unformatted_code = \"import pandas as pd\\nimport json\\nimport os\\n\\nimport matplotlib.pyplot as plt\\nfrom matplotlib import cm\";\n",
       "                var nbb_formatted_code = \"import pandas as pd\\nimport json\\nimport os\\n\\nimport matplotlib.pyplot as plt\\nfrom matplotlib import cm\";\n",
       "                var nbb_cells = Jupyter.notebook.get_cells();\n",
       "                for (var i = 0; i < nbb_cells.length; ++i) {\n",
       "                    if (nbb_cells[i].input_prompt_number == nbb_cell_id) {\n",
       "                        if (nbb_cells[i].get_text() == nbb_unformatted_code) {\n",
       "                             nbb_cells[i].set_text(nbb_formatted_code);\n",
       "                        }\n",
       "                        break;\n",
       "                    }\n",
       "                }\n",
       "            }, 500);\n",
       "            "
      ],
      "text/plain": [
       "<IPython.core.display.Javascript object>"
      ]
     },
     "metadata": {},
     "output_type": "display_data"
    }
   ],
   "source": [
    "import pandas as pd\n",
    "import json\n",
    "import os\n",
    "\n",
    "import matplotlib.pyplot as plt\n",
    "from matplotlib import cm"
   ]
  },
  {
   "cell_type": "code",
   "execution_count": 3,
   "id": "bd7a0cd1",
   "metadata": {},
   "outputs": [
    {
     "data": {
      "application/javascript": [
       "\n",
       "            setTimeout(function() {\n",
       "                var nbb_cell_id = 3;\n",
       "                var nbb_unformatted_code = \"def read_face_data_record(record: dict) -> dict:\\n    return {\\n        \\\"is_face_detected\\\": record[\\\"is_face_detected\\\"],\\n        \\\"angry\\\": record[\\\"emotions\\\"][\\\"angry\\\"],\\n        \\\"disgust\\\": record[\\\"emotions\\\"][\\\"disgust\\\"],\\n        \\\"fear\\\": record[\\\"emotions\\\"][\\\"fear\\\"],\\n        \\\"happy\\\": record[\\\"emotions\\\"][\\\"happy\\\"],\\n        \\\"sad\\\": record[\\\"emotions\\\"][\\\"sad\\\"],\\n        \\\"neutral\\\": record[\\\"emotions\\\"][\\\"neutral\\\"],\\n        \\\"head_turn\\\": record[\\\"head_turn\\\"],\\n        \\\"eyes_closed\\\": record[\\\"eyes_closed\\\"],\\n    }\";\n",
       "                var nbb_formatted_code = \"def read_face_data_record(record: dict) -> dict:\\n    return {\\n        \\\"is_face_detected\\\": record[\\\"is_face_detected\\\"],\\n        \\\"angry\\\": record[\\\"emotions\\\"][\\\"angry\\\"],\\n        \\\"disgust\\\": record[\\\"emotions\\\"][\\\"disgust\\\"],\\n        \\\"fear\\\": record[\\\"emotions\\\"][\\\"fear\\\"],\\n        \\\"happy\\\": record[\\\"emotions\\\"][\\\"happy\\\"],\\n        \\\"sad\\\": record[\\\"emotions\\\"][\\\"sad\\\"],\\n        \\\"neutral\\\": record[\\\"emotions\\\"][\\\"neutral\\\"],\\n        \\\"head_turn\\\": record[\\\"head_turn\\\"],\\n        \\\"eyes_closed\\\": record[\\\"eyes_closed\\\"],\\n    }\";\n",
       "                var nbb_cells = Jupyter.notebook.get_cells();\n",
       "                for (var i = 0; i < nbb_cells.length; ++i) {\n",
       "                    if (nbb_cells[i].input_prompt_number == nbb_cell_id) {\n",
       "                        if (nbb_cells[i].get_text() == nbb_unformatted_code) {\n",
       "                             nbb_cells[i].set_text(nbb_formatted_code);\n",
       "                        }\n",
       "                        break;\n",
       "                    }\n",
       "                }\n",
       "            }, 500);\n",
       "            "
      ],
      "text/plain": [
       "<IPython.core.display.Javascript object>"
      ]
     },
     "metadata": {},
     "output_type": "display_data"
    }
   ],
   "source": [
    "def read_face_data_record(record: dict) -> dict:\n",
    "    return {\n",
    "        \"is_face_detected\": record[\"is_face_detected\"],\n",
    "        \"angry\": record[\"emotions\"][\"angry\"],\n",
    "        \"disgust\": record[\"emotions\"][\"disgust\"],\n",
    "        \"fear\": record[\"emotions\"][\"fear\"],\n",
    "        \"happy\": record[\"emotions\"][\"happy\"],\n",
    "        \"sad\": record[\"emotions\"][\"sad\"],\n",
    "        \"neutral\": record[\"emotions\"][\"neutral\"],\n",
    "        \"head_turn\": record[\"head_turn\"],\n",
    "        \"eyes_closed\": record[\"eyes_closed\"],\n",
    "    }"
   ]
  },
  {
   "cell_type": "code",
   "execution_count": 4,
   "id": "4e6ecaba",
   "metadata": {},
   "outputs": [
    {
     "data": {
      "application/javascript": [
       "\n",
       "            setTimeout(function() {\n",
       "                var nbb_cell_id = 4;\n",
       "                var nbb_unformatted_code = \"def get_signal_df_list(data_files: list) -> list:\\n    face_data_signals = []\\n    for data_file in data_files:\\n        with open(data_file) as f:\\n            face_data = pd.DataFrame(\\n                [read_face_data_record(json.loads(line)) for line in f]\\n            )\\n        face_data_signals.append(face_data)\\n    return face_data_signals\";\n",
       "                var nbb_formatted_code = \"def get_signal_df_list(data_files: list) -> list:\\n    face_data_signals = []\\n    for data_file in data_files:\\n        with open(data_file) as f:\\n            face_data = pd.DataFrame(\\n                [read_face_data_record(json.loads(line)) for line in f]\\n            )\\n        face_data_signals.append(face_data)\\n    return face_data_signals\";\n",
       "                var nbb_cells = Jupyter.notebook.get_cells();\n",
       "                for (var i = 0; i < nbb_cells.length; ++i) {\n",
       "                    if (nbb_cells[i].input_prompt_number == nbb_cell_id) {\n",
       "                        if (nbb_cells[i].get_text() == nbb_unformatted_code) {\n",
       "                             nbb_cells[i].set_text(nbb_formatted_code);\n",
       "                        }\n",
       "                        break;\n",
       "                    }\n",
       "                }\n",
       "            }, 500);\n",
       "            "
      ],
      "text/plain": [
       "<IPython.core.display.Javascript object>"
      ]
     },
     "metadata": {},
     "output_type": "display_data"
    }
   ],
   "source": [
    "def get_signal_df_list(data_files: list) -> list:\n",
    "    face_data_signals = []\n",
    "    for data_file in data_files:\n",
    "        with open(data_file) as f:\n",
    "            face_data = pd.DataFrame(\n",
    "                [read_face_data_record(json.loads(line)) for line in f]\n",
    "            )\n",
    "        face_data_signals.append(face_data)\n",
    "    return face_data_signals"
   ]
  },
  {
   "cell_type": "code",
   "execution_count": 5,
   "id": "fd64b7cc",
   "metadata": {},
   "outputs": [
    {
     "data": {
      "application/javascript": [
       "\n",
       "            setTimeout(function() {\n",
       "                var nbb_cell_id = 5;\n",
       "                var nbb_unformatted_code = \"def merge_on_metric(\\n    face_data_signals: list,\\n    attr_name: str,\\n    column_names: list,\\n    smoothing_window: int,\\n    min_len: int,\\n) -> pd.DataFrame:\\n    res_df = (\\n        pd.DataFrame(\\n            [face_data[attr_name][:min_len] for face_data in face_data_signals],\\n        )\\n        .T.ewm(span=smoothing_window)\\n        .mean()\\n    )\\n    res_df.columns = column_names\\n    return res_df\";\n",
       "                var nbb_formatted_code = \"def merge_on_metric(\\n    face_data_signals: list,\\n    attr_name: str,\\n    column_names: list,\\n    smoothing_window: int,\\n    min_len: int,\\n) -> pd.DataFrame:\\n    res_df = (\\n        pd.DataFrame(\\n            [face_data[attr_name][:min_len] for face_data in face_data_signals],\\n        )\\n        .T.ewm(span=smoothing_window)\\n        .mean()\\n    )\\n    res_df.columns = column_names\\n    return res_df\";\n",
       "                var nbb_cells = Jupyter.notebook.get_cells();\n",
       "                for (var i = 0; i < nbb_cells.length; ++i) {\n",
       "                    if (nbb_cells[i].input_prompt_number == nbb_cell_id) {\n",
       "                        if (nbb_cells[i].get_text() == nbb_unformatted_code) {\n",
       "                             nbb_cells[i].set_text(nbb_formatted_code);\n",
       "                        }\n",
       "                        break;\n",
       "                    }\n",
       "                }\n",
       "            }, 500);\n",
       "            "
      ],
      "text/plain": [
       "<IPython.core.display.Javascript object>"
      ]
     },
     "metadata": {},
     "output_type": "display_data"
    }
   ],
   "source": [
    "def merge_on_metric(\n",
    "    face_data_signals: list,\n",
    "    attr_name: str,\n",
    "    column_names: list,\n",
    "    smoothing_window: int,\n",
    "    min_len: int,\n",
    ") -> pd.DataFrame:\n",
    "    res_df = (\n",
    "        pd.DataFrame(\n",
    "            [face_data[attr_name][:min_len] for face_data in face_data_signals],\n",
    "        )\n",
    "        .T.ewm(span=smoothing_window)\n",
    "        .mean()\n",
    "    )\n",
    "    res_df.columns = column_names\n",
    "    return res_df"
   ]
  },
  {
   "cell_type": "code",
   "execution_count": 24,
   "id": "1d7c75b0",
   "metadata": {},
   "outputs": [
    {
     "data": {
      "application/javascript": [
       "\n",
       "            setTimeout(function() {\n",
       "                var nbb_cell_id = 24;\n",
       "                var nbb_unformatted_code = \"data_files = [\\n    \\\"uhmm_video_1.json\\\",\\n    \\\"uhmm_video_2.json\\\",\\n    \\\"uhmm_video_3.json\\\",\\n    \\\"uhmm_video_4.json\\\",\\n#     \\\"face_data.json\\\",\\n    \\\"face_data2.json\\\",\\n#     \\\"french_lesson.json\\\",\\n    \\\"fake_happy1.json\\\",\\n    \\\"fake_happy2.json\\\",\\n    \\\"fake_happy3.json\\\",\\n]\\ndata_files_dir = [os.path.join(\\\"../data\\\", data_file) for data_file in data_files]\\nface_data_signals = get_signal_df_list(data_files_dir)\";\n",
       "                var nbb_formatted_code = \"data_files = [\\n    \\\"uhmm_video_1.json\\\",\\n    \\\"uhmm_video_2.json\\\",\\n    \\\"uhmm_video_3.json\\\",\\n    \\\"uhmm_video_4.json\\\",\\n    #     \\\"face_data.json\\\",\\n    \\\"face_data2.json\\\",\\n    #     \\\"french_lesson.json\\\",\\n    \\\"fake_happy1.json\\\",\\n    \\\"fake_happy2.json\\\",\\n    \\\"fake_happy3.json\\\",\\n]\\ndata_files_dir = [os.path.join(\\\"../data\\\", data_file) for data_file in data_files]\\nface_data_signals = get_signal_df_list(data_files_dir)\";\n",
       "                var nbb_cells = Jupyter.notebook.get_cells();\n",
       "                for (var i = 0; i < nbb_cells.length; ++i) {\n",
       "                    if (nbb_cells[i].input_prompt_number == nbb_cell_id) {\n",
       "                        if (nbb_cells[i].get_text() == nbb_unformatted_code) {\n",
       "                             nbb_cells[i].set_text(nbb_formatted_code);\n",
       "                        }\n",
       "                        break;\n",
       "                    }\n",
       "                }\n",
       "            }, 500);\n",
       "            "
      ],
      "text/plain": [
       "<IPython.core.display.Javascript object>"
      ]
     },
     "metadata": {},
     "output_type": "display_data"
    }
   ],
   "source": [
    "data_files = [\n",
    "    \"uhmm_video_1.json\",\n",
    "    \"uhmm_video_2.json\",\n",
    "    \"uhmm_video_3.json\",\n",
    "    \"uhmm_video_4.json\",\n",
    "    #     \"face_data.json\",\n",
    "    \"face_data2.json\",\n",
    "    #     \"french_lesson.json\",\n",
    "    \"fake_happy1.json\",\n",
    "    \"fake_happy2.json\",\n",
    "    \"fake_happy3.json\",\n",
    "]\n",
    "data_files_dir = [os.path.join(\"../data\", data_file) for data_file in data_files]\n",
    "face_data_signals = get_signal_df_list(data_files_dir)"
   ]
  },
  {
   "cell_type": "code",
   "execution_count": 25,
   "id": "e383fc91",
   "metadata": {},
   "outputs": [
    {
     "data": {
      "application/javascript": [
       "\n",
       "            setTimeout(function() {\n",
       "                var nbb_cell_id = 25;\n",
       "                var nbb_unformatted_code = \"# min_len = min([face_data_signal.shape[0] for face_data_signal in face_data_signals])\\n# min_len\";\n",
       "                var nbb_formatted_code = \"# min_len = min([face_data_signal.shape[0] for face_data_signal in face_data_signals])\\n# min_len\";\n",
       "                var nbb_cells = Jupyter.notebook.get_cells();\n",
       "                for (var i = 0; i < nbb_cells.length; ++i) {\n",
       "                    if (nbb_cells[i].input_prompt_number == nbb_cell_id) {\n",
       "                        if (nbb_cells[i].get_text() == nbb_unformatted_code) {\n",
       "                             nbb_cells[i].set_text(nbb_formatted_code);\n",
       "                        }\n",
       "                        break;\n",
       "                    }\n",
       "                }\n",
       "            }, 500);\n",
       "            "
      ],
      "text/plain": [
       "<IPython.core.display.Javascript object>"
      ]
     },
     "metadata": {},
     "output_type": "display_data"
    }
   ],
   "source": [
    "# min_len = min([face_data_signal.shape[0] for face_data_signal in face_data_signals])\n",
    "# min_len"
   ]
  },
  {
   "cell_type": "code",
   "execution_count": 26,
   "id": "6a375491",
   "metadata": {},
   "outputs": [
    {
     "data": {
      "application/javascript": [
       "\n",
       "            setTimeout(function() {\n",
       "                var nbb_cell_id = 26;\n",
       "                var nbb_unformatted_code = \"eyeblink_trashold = 3\";\n",
       "                var nbb_formatted_code = \"eyeblink_trashold = 3\";\n",
       "                var nbb_cells = Jupyter.notebook.get_cells();\n",
       "                for (var i = 0; i < nbb_cells.length; ++i) {\n",
       "                    if (nbb_cells[i].input_prompt_number == nbb_cell_id) {\n",
       "                        if (nbb_cells[i].get_text() == nbb_unformatted_code) {\n",
       "                             nbb_cells[i].set_text(nbb_formatted_code);\n",
       "                        }\n",
       "                        break;\n",
       "                    }\n",
       "                }\n",
       "            }, 500);\n",
       "            "
      ],
      "text/plain": [
       "<IPython.core.display.Javascript object>"
      ]
     },
     "metadata": {},
     "output_type": "display_data"
    }
   ],
   "source": [
    "eyeblink_trashold = 3"
   ]
  },
  {
   "cell_type": "code",
   "execution_count": 27,
   "id": "a2e5fc5f",
   "metadata": {},
   "outputs": [
    {
     "data": {
      "application/javascript": [
       "\n",
       "            setTimeout(function() {\n",
       "                var nbb_cell_id = 27;\n",
       "                var nbb_unformatted_code = \"# eye_blink_df = merge_on_metric(\\n#     face_data_signals=face_data_signals,\\n#     attr_name=\\\"eyes_closed\\\",\\n#     column_names=data_files,\\n#     smoothing_window=1,\\n#     min_len=min_len,\\n# )\\n# eye_blink_df.head()\";\n",
       "                var nbb_formatted_code = \"# eye_blink_df = merge_on_metric(\\n#     face_data_signals=face_data_signals,\\n#     attr_name=\\\"eyes_closed\\\",\\n#     column_names=data_files,\\n#     smoothing_window=1,\\n#     min_len=min_len,\\n# )\\n# eye_blink_df.head()\";\n",
       "                var nbb_cells = Jupyter.notebook.get_cells();\n",
       "                for (var i = 0; i < nbb_cells.length; ++i) {\n",
       "                    if (nbb_cells[i].input_prompt_number == nbb_cell_id) {\n",
       "                        if (nbb_cells[i].get_text() == nbb_unformatted_code) {\n",
       "                             nbb_cells[i].set_text(nbb_formatted_code);\n",
       "                        }\n",
       "                        break;\n",
       "                    }\n",
       "                }\n",
       "            }, 500);\n",
       "            "
      ],
      "text/plain": [
       "<IPython.core.display.Javascript object>"
      ]
     },
     "metadata": {},
     "output_type": "display_data"
    }
   ],
   "source": [
    "# eye_blink_df = merge_on_metric(\n",
    "#     face_data_signals=face_data_signals,\n",
    "#     attr_name=\"eyes_closed\",\n",
    "#     column_names=data_files,\n",
    "#     smoothing_window=1,\n",
    "#     min_len=min_len,\n",
    "# )\n",
    "# eye_blink_df.head()"
   ]
  },
  {
   "cell_type": "code",
   "execution_count": null,
   "id": "0515d08a",
   "metadata": {},
   "outputs": [],
   "source": []
  },
  {
   "cell_type": "code",
   "execution_count": 28,
   "id": "837df64c",
   "metadata": {},
   "outputs": [
    {
     "data": {
      "text/html": [
       "<div>\n",
       "<style scoped>\n",
       "    .dataframe tbody tr th:only-of-type {\n",
       "        vertical-align: middle;\n",
       "    }\n",
       "\n",
       "    .dataframe tbody tr th {\n",
       "        vertical-align: top;\n",
       "    }\n",
       "\n",
       "    .dataframe thead th {\n",
       "        text-align: right;\n",
       "    }\n",
       "</style>\n",
       "<table border=\"1\" class=\"dataframe\">\n",
       "  <thead>\n",
       "    <tr style=\"text-align: right;\">\n",
       "      <th></th>\n",
       "      <th>count</th>\n",
       "      <th>mean</th>\n",
       "      <th>std</th>\n",
       "      <th>min</th>\n",
       "      <th>25%</th>\n",
       "      <th>50%</th>\n",
       "      <th>75%</th>\n",
       "      <th>max</th>\n",
       "    </tr>\n",
       "  </thead>\n",
       "  <tbody>\n",
       "    <tr>\n",
       "      <th>uhmm_video_1.json</th>\n",
       "      <td>4189.0</td>\n",
       "      <td>1.865541</td>\n",
       "      <td>0.418909</td>\n",
       "      <td>0.525584</td>\n",
       "      <td>1.713855</td>\n",
       "      <td>1.841213</td>\n",
       "      <td>1.978400</td>\n",
       "      <td>21.122777</td>\n",
       "    </tr>\n",
       "    <tr>\n",
       "      <th>uhmm_video_2.json</th>\n",
       "      <td>3956.0</td>\n",
       "      <td>1.840374</td>\n",
       "      <td>0.383640</td>\n",
       "      <td>0.555399</td>\n",
       "      <td>1.679886</td>\n",
       "      <td>1.803910</td>\n",
       "      <td>1.935873</td>\n",
       "      <td>15.013371</td>\n",
       "    </tr>\n",
       "    <tr>\n",
       "      <th>uhmm_video_3.json</th>\n",
       "      <td>3728.0</td>\n",
       "      <td>1.815537</td>\n",
       "      <td>0.435735</td>\n",
       "      <td>0.537465</td>\n",
       "      <td>1.630193</td>\n",
       "      <td>1.749034</td>\n",
       "      <td>1.894844</td>\n",
       "      <td>6.389741</td>\n",
       "    </tr>\n",
       "    <tr>\n",
       "      <th>uhmm_video_4.json</th>\n",
       "      <td>3794.0</td>\n",
       "      <td>1.800580</td>\n",
       "      <td>0.344374</td>\n",
       "      <td>0.448276</td>\n",
       "      <td>1.603040</td>\n",
       "      <td>1.768892</td>\n",
       "      <td>1.961716</td>\n",
       "      <td>5.584036</td>\n",
       "    </tr>\n",
       "    <tr>\n",
       "      <th>face_data2.json</th>\n",
       "      <td>8123.0</td>\n",
       "      <td>2.091903</td>\n",
       "      <td>0.398389</td>\n",
       "      <td>0.271645</td>\n",
       "      <td>1.919176</td>\n",
       "      <td>2.069611</td>\n",
       "      <td>2.217463</td>\n",
       "      <td>9.871633</td>\n",
       "    </tr>\n",
       "    <tr>\n",
       "      <th>fake_happy1.json</th>\n",
       "      <td>777.0</td>\n",
       "      <td>3.086787</td>\n",
       "      <td>1.965791</td>\n",
       "      <td>1.480005</td>\n",
       "      <td>2.208229</td>\n",
       "      <td>2.579178</td>\n",
       "      <td>3.229776</td>\n",
       "      <td>25.923290</td>\n",
       "    </tr>\n",
       "    <tr>\n",
       "      <th>fake_happy2.json</th>\n",
       "      <td>808.0</td>\n",
       "      <td>3.104091</td>\n",
       "      <td>1.579288</td>\n",
       "      <td>1.363646</td>\n",
       "      <td>2.287008</td>\n",
       "      <td>2.751563</td>\n",
       "      <td>3.419597</td>\n",
       "      <td>17.905040</td>\n",
       "    </tr>\n",
       "    <tr>\n",
       "      <th>fake_happy3.json</th>\n",
       "      <td>741.0</td>\n",
       "      <td>2.775952</td>\n",
       "      <td>1.311186</td>\n",
       "      <td>1.378999</td>\n",
       "      <td>2.008658</td>\n",
       "      <td>2.440789</td>\n",
       "      <td>3.163625</td>\n",
       "      <td>13.265874</td>\n",
       "    </tr>\n",
       "  </tbody>\n",
       "</table>\n",
       "</div>"
      ],
      "text/plain": [
       "                    count      mean       std       min       25%       50%  \\\n",
       "uhmm_video_1.json  4189.0  1.865541  0.418909  0.525584  1.713855  1.841213   \n",
       "uhmm_video_2.json  3956.0  1.840374  0.383640  0.555399  1.679886  1.803910   \n",
       "uhmm_video_3.json  3728.0  1.815537  0.435735  0.537465  1.630193  1.749034   \n",
       "uhmm_video_4.json  3794.0  1.800580  0.344374  0.448276  1.603040  1.768892   \n",
       "face_data2.json    8123.0  2.091903  0.398389  0.271645  1.919176  2.069611   \n",
       "fake_happy1.json    777.0  3.086787  1.965791  1.480005  2.208229  2.579178   \n",
       "fake_happy2.json    808.0  3.104091  1.579288  1.363646  2.287008  2.751563   \n",
       "fake_happy3.json    741.0  2.775952  1.311186  1.378999  2.008658  2.440789   \n",
       "\n",
       "                        75%        max  \n",
       "uhmm_video_1.json  1.978400  21.122777  \n",
       "uhmm_video_2.json  1.935873  15.013371  \n",
       "uhmm_video_3.json  1.894844   6.389741  \n",
       "uhmm_video_4.json  1.961716   5.584036  \n",
       "face_data2.json    2.217463   9.871633  \n",
       "fake_happy1.json   3.229776  25.923290  \n",
       "fake_happy2.json   3.419597  17.905040  \n",
       "fake_happy3.json   3.163625  13.265874  "
      ]
     },
     "execution_count": 28,
     "metadata": {},
     "output_type": "execute_result"
    },
    {
     "data": {
      "application/javascript": [
       "\n",
       "            setTimeout(function() {\n",
       "                var nbb_cell_id = 28;\n",
       "                var nbb_unformatted_code = \"pd.DataFrame(\\n    [\\n        face_data_signal[\\\"eyes_closed\\\"].describe()\\n        for face_data_signal in face_data_signals\\n    ],\\n    index=data_files,\\n)\";\n",
       "                var nbb_formatted_code = \"pd.DataFrame(\\n    [\\n        face_data_signal[\\\"eyes_closed\\\"].describe()\\n        for face_data_signal in face_data_signals\\n    ],\\n    index=data_files,\\n)\";\n",
       "                var nbb_cells = Jupyter.notebook.get_cells();\n",
       "                for (var i = 0; i < nbb_cells.length; ++i) {\n",
       "                    if (nbb_cells[i].input_prompt_number == nbb_cell_id) {\n",
       "                        if (nbb_cells[i].get_text() == nbb_unformatted_code) {\n",
       "                             nbb_cells[i].set_text(nbb_formatted_code);\n",
       "                        }\n",
       "                        break;\n",
       "                    }\n",
       "                }\n",
       "            }, 500);\n",
       "            "
      ],
      "text/plain": [
       "<IPython.core.display.Javascript object>"
      ]
     },
     "metadata": {},
     "output_type": "display_data"
    }
   ],
   "source": [
    "pd.DataFrame(\n",
    "    [\n",
    "        face_data_signal[\"eyes_closed\"].describe()\n",
    "        for face_data_signal in face_data_signals\n",
    "    ],\n",
    "    index=data_files,\n",
    ")"
   ]
  },
  {
   "cell_type": "code",
   "execution_count": 31,
   "id": "6b566037",
   "metadata": {},
   "outputs": [
    {
     "name": "stdout",
     "output_type": "stream",
     "text": [
      "[20, 38, 89, 31, 149, 246, 317, 215]\n"
     ]
    },
    {
     "data": {
      "application/javascript": [
       "\n",
       "            setTimeout(function() {\n",
       "                var nbb_cell_id = 31;\n",
       "                var nbb_unformatted_code = \"eyeblink_distances = [\\n    pd.Series(\\n        face_data_signal.index[face_data_signal[\\\"eyes_closed\\\"] > eyeblink_trashold]\\n    ).diff()\\n    for face_data_signal in face_data_signals\\n]\\n\\n# eyeblink_distances = [\\n#     pd.Series(eye_blink_df.index[eye_blink_df[column] > eyeblink_trashold])\\n#     .diff()\\n#     .fillna(0)\\n#     for column in data_files\\n# ]\\nprint([len(eyeblink_distance) for eyeblink_distance in eyeblink_distances])\";\n",
       "                var nbb_formatted_code = \"eyeblink_distances = [\\n    pd.Series(\\n        face_data_signal.index[face_data_signal[\\\"eyes_closed\\\"] > eyeblink_trashold]\\n    ).diff()\\n    for face_data_signal in face_data_signals\\n]\\n\\n# eyeblink_distances = [\\n#     pd.Series(eye_blink_df.index[eye_blink_df[column] > eyeblink_trashold])\\n#     .diff()\\n#     .fillna(0)\\n#     for column in data_files\\n# ]\\nprint([len(eyeblink_distance) for eyeblink_distance in eyeblink_distances])\";\n",
       "                var nbb_cells = Jupyter.notebook.get_cells();\n",
       "                for (var i = 0; i < nbb_cells.length; ++i) {\n",
       "                    if (nbb_cells[i].input_prompt_number == nbb_cell_id) {\n",
       "                        if (nbb_cells[i].get_text() == nbb_unformatted_code) {\n",
       "                             nbb_cells[i].set_text(nbb_formatted_code);\n",
       "                        }\n",
       "                        break;\n",
       "                    }\n",
       "                }\n",
       "            }, 500);\n",
       "            "
      ],
      "text/plain": [
       "<IPython.core.display.Javascript object>"
      ]
     },
     "metadata": {},
     "output_type": "display_data"
    }
   ],
   "source": [
    "eyeblink_distances = [\n",
    "    pd.Series(\n",
    "        face_data_signal.index[face_data_signal[\"eyes_closed\"] > eyeblink_trashold]\n",
    "    ).diff()\n",
    "    for face_data_signal in face_data_signals\n",
    "]\n",
    "\n",
    "# eyeblink_distances = [\n",
    "#     pd.Series(eye_blink_df.index[eye_blink_df[column] > eyeblink_trashold])\n",
    "#     .diff()\n",
    "#     .fillna(0)\n",
    "#     for column in data_files\n",
    "# ]\n",
    "print([len(eyeblink_distance) for eyeblink_distance in eyeblink_distances])"
   ]
  },
  {
   "cell_type": "code",
   "execution_count": 32,
   "id": "715576dd",
   "metadata": {},
   "outputs": [
    {
     "data": {
      "text/html": [
       "<div>\n",
       "<style scoped>\n",
       "    .dataframe tbody tr th:only-of-type {\n",
       "        vertical-align: middle;\n",
       "    }\n",
       "\n",
       "    .dataframe tbody tr th {\n",
       "        vertical-align: top;\n",
       "    }\n",
       "\n",
       "    .dataframe thead th {\n",
       "        text-align: right;\n",
       "    }\n",
       "</style>\n",
       "<table border=\"1\" class=\"dataframe\">\n",
       "  <thead>\n",
       "    <tr style=\"text-align: right;\">\n",
       "      <th></th>\n",
       "      <th>mean</th>\n",
       "      <th>std</th>\n",
       "    </tr>\n",
       "  </thead>\n",
       "  <tbody>\n",
       "    <tr>\n",
       "      <th>uhmm_video_1.json</th>\n",
       "      <td>172.263158</td>\n",
       "      <td>282.994276</td>\n",
       "    </tr>\n",
       "    <tr>\n",
       "      <th>uhmm_video_2.json</th>\n",
       "      <td>88.945946</td>\n",
       "      <td>144.550058</td>\n",
       "    </tr>\n",
       "    <tr>\n",
       "      <th>uhmm_video_3.json</th>\n",
       "      <td>38.852273</td>\n",
       "      <td>160.905165</td>\n",
       "    </tr>\n",
       "    <tr>\n",
       "      <th>uhmm_video_4.json</th>\n",
       "      <td>127.166667</td>\n",
       "      <td>236.449905</td>\n",
       "    </tr>\n",
       "    <tr>\n",
       "      <th>face_data2.json</th>\n",
       "      <td>55.750000</td>\n",
       "      <td>154.100147</td>\n",
       "    </tr>\n",
       "    <tr>\n",
       "      <th>fake_happy1.json</th>\n",
       "      <td>3.134694</td>\n",
       "      <td>7.864257</td>\n",
       "    </tr>\n",
       "    <tr>\n",
       "      <th>fake_happy2.json</th>\n",
       "      <td>2.503165</td>\n",
       "      <td>5.960451</td>\n",
       "    </tr>\n",
       "    <tr>\n",
       "      <th>fake_happy3.json</th>\n",
       "      <td>3.434579</td>\n",
       "      <td>7.681019</td>\n",
       "    </tr>\n",
       "  </tbody>\n",
       "</table>\n",
       "</div>"
      ],
      "text/plain": [
       "                         mean         std\n",
       "uhmm_video_1.json  172.263158  282.994276\n",
       "uhmm_video_2.json   88.945946  144.550058\n",
       "uhmm_video_3.json   38.852273  160.905165\n",
       "uhmm_video_4.json  127.166667  236.449905\n",
       "face_data2.json     55.750000  154.100147\n",
       "fake_happy1.json     3.134694    7.864257\n",
       "fake_happy2.json     2.503165    5.960451\n",
       "fake_happy3.json     3.434579    7.681019"
      ]
     },
     "execution_count": 32,
     "metadata": {},
     "output_type": "execute_result"
    },
    {
     "data": {
      "application/javascript": [
       "\n",
       "            setTimeout(function() {\n",
       "                var nbb_cell_id = 32;\n",
       "                var nbb_unformatted_code = \"mean_std_df = pd.DataFrame(\\n    [\\n        (eyeblink_distance.mean(), eyeblink_distance.std())\\n        for eyeblink_distance in eyeblink_distances\\n    ],\\n    columns=[\\\"mean\\\", \\\"std\\\"],\\n    index=data_files,\\n)\\nmean_std_df\";\n",
       "                var nbb_formatted_code = \"mean_std_df = pd.DataFrame(\\n    [\\n        (eyeblink_distance.mean(), eyeblink_distance.std())\\n        for eyeblink_distance in eyeblink_distances\\n    ],\\n    columns=[\\\"mean\\\", \\\"std\\\"],\\n    index=data_files,\\n)\\nmean_std_df\";\n",
       "                var nbb_cells = Jupyter.notebook.get_cells();\n",
       "                for (var i = 0; i < nbb_cells.length; ++i) {\n",
       "                    if (nbb_cells[i].input_prompt_number == nbb_cell_id) {\n",
       "                        if (nbb_cells[i].get_text() == nbb_unformatted_code) {\n",
       "                             nbb_cells[i].set_text(nbb_formatted_code);\n",
       "                        }\n",
       "                        break;\n",
       "                    }\n",
       "                }\n",
       "            }, 500);\n",
       "            "
      ],
      "text/plain": [
       "<IPython.core.display.Javascript object>"
      ]
     },
     "metadata": {},
     "output_type": "display_data"
    }
   ],
   "source": [
    "mean_std_df = pd.DataFrame(\n",
    "    [\n",
    "        (eyeblink_distance.mean(), eyeblink_distance.std())\n",
    "        for eyeblink_distance in eyeblink_distances\n",
    "    ],\n",
    "    columns=[\"mean\", \"std\"],\n",
    "    index=data_files,\n",
    ")\n",
    "mean_std_df"
   ]
  },
  {
   "cell_type": "code",
   "execution_count": 33,
   "id": "bbff4c5f",
   "metadata": {},
   "outputs": [
    {
     "data": {
      "text/plain": [
       "<Axes: xlabel='mean', ylabel='std'>"
      ]
     },
     "execution_count": 33,
     "metadata": {},
     "output_type": "execute_result"
    },
    {
     "data": {
      "image/png": "[encoded data removed]",
      "text/plain": [
       "<Figure size 640x480 with 1 Axes>"
      ]
     },
     "metadata": {},
     "output_type": "display_data"
    },
    {
     "data": {
      "application/javascript": [
       "\n",
       "            setTimeout(function() {\n",
       "                var nbb_cell_id = 33;\n",
       "                var nbb_unformatted_code = \"mean_std_df.plot(x=\\\"mean\\\", y=\\\"std\\\", kind=\\\"scatter\\\")\";\n",
       "                var nbb_formatted_code = \"mean_std_df.plot(x=\\\"mean\\\", y=\\\"std\\\", kind=\\\"scatter\\\")\";\n",
       "                var nbb_cells = Jupyter.notebook.get_cells();\n",
       "                for (var i = 0; i < nbb_cells.length; ++i) {\n",
       "                    if (nbb_cells[i].input_prompt_number == nbb_cell_id) {\n",
       "                        if (nbb_cells[i].get_text() == nbb_unformatted_code) {\n",
       "                             nbb_cells[i].set_text(nbb_formatted_code);\n",
       "                        }\n",
       "                        break;\n",
       "                    }\n",
       "                }\n",
       "            }, 500);\n",
       "            "
      ],
      "text/plain": [
       "<IPython.core.display.Javascript object>"
      ]
     },
     "metadata": {},
     "output_type": "display_data"
    }
   ],
   "source": [
    "mean_std_df.plot(x=\"mean\", y=\"std\", kind=\"scatter\")"
   ]
  },
  {
   "cell_type": "code",
   "execution_count": 37,
   "id": "094bb665",
   "metadata": {},
   "outputs": [
    {
     "name": "stderr",
     "output_type": "stream",
     "text": [
      "/var/folders/sh/7hxrl8k913x6_bnwkr3k_m880000gn/T/ipykernel_65095/115188293.py:5: MatplotlibDeprecationWarning: The get_cmap function was deprecated in Matplotlib 3.7 and will be removed two minor releases later. Use ``matplotlib.colormaps[name]`` or ``matplotlib.colormaps.get_cmap(obj)`` instead.\n",
      "  cmap = cm.get_cmap(\"Spectral\")\n"
     ]
    },
    {
     "data": {
      "image/png": "[encoded data removed]",
      "text/plain": [
       "<Figure size 640x480 with 1 Axes>"
      ]
     },
     "metadata": {},
     "output_type": "display_data"
    },
    {
     "data": {
      "application/javascript": [
       "\n",
       "            setTimeout(function() {\n",
       "                var nbb_cell_id = 37;\n",
       "                var nbb_unformatted_code = \"fig, ax = plt.subplots()\\nax.set_xlim([0, 250])\\n# ax.set_ylim([0, 250])\\n\\ncmap = cm.get_cmap(\\\"Spectral\\\")\\nmean_std_df.plot(\\n    \\\"mean\\\",\\n    \\\"std\\\",\\n    kind=\\\"scatter\\\",\\n    ax=ax,\\n    s=120,\\n    linewidth=0,\\n    c=range(len(mean_std_df)),\\n    colormap=cmap,\\n)\\n\\nfor k, v in mean_std_df.iterrows():\\n    ax.annotate(\\n        k,\\n        v,\\n        xytext=(10, -5),\\n        textcoords=\\\"offset points\\\",\\n        family=\\\"sans-serif\\\",\\n        fontsize=7,\\n        color=\\\"darkslategrey\\\",\\n    )\";\n",
       "                var nbb_formatted_code = \"fig, ax = plt.subplots()\\nax.set_xlim([0, 250])\\n# ax.set_ylim([0, 250])\\n\\ncmap = cm.get_cmap(\\\"Spectral\\\")\\nmean_std_df.plot(\\n    \\\"mean\\\",\\n    \\\"std\\\",\\n    kind=\\\"scatter\\\",\\n    ax=ax,\\n    s=120,\\n    linewidth=0,\\n    c=range(len(mean_std_df)),\\n    colormap=cmap,\\n)\\n\\nfor k, v in mean_std_df.iterrows():\\n    ax.annotate(\\n        k,\\n        v,\\n        xytext=(10, -5),\\n        textcoords=\\\"offset points\\\",\\n        family=\\\"sans-serif\\\",\\n        fontsize=7,\\n        color=\\\"darkslategrey\\\",\\n    )\";\n",
       "                var nbb_cells = Jupyter.notebook.get_cells();\n",
       "                for (var i = 0; i < nbb_cells.length; ++i) {\n",
       "                    if (nbb_cells[i].input_prompt_number == nbb_cell_id) {\n",
       "                        if (nbb_cells[i].get_text() == nbb_unformatted_code) {\n",
       "                             nbb_cells[i].set_text(nbb_formatted_code);\n",
       "                        }\n",
       "                        break;\n",
       "                    }\n",
       "                }\n",
       "            }, 500);\n",
       "            "
      ],
      "text/plain": [
       "<IPython.core.display.Javascript object>"
      ]
     },
     "metadata": {},
     "output_type": "display_data"
    }
   ],
   "source": [
    "fig, ax = plt.subplots()\n",
    "ax.set_xlim([0, 250])\n",
    "# ax.set_ylim([0, 250])\n",
    "\n",
    "cmap = cm.get_cmap(\"Spectral\")\n",
    "mean_std_df.plot(\n",
    "    \"mean\",\n",
    "    \"std\",\n",
    "    kind=\"scatter\",\n",
    "    ax=ax,\n",
    "    s=120,\n",
    "    linewidth=0,\n",
    "    c=range(len(mean_std_df)),\n",
    "    colormap=cmap,\n",
    ")\n",
    "\n",
    "for k, v in mean_std_df.iterrows():\n",
    "    ax.annotate(\n",
    "        k,\n",
    "        v,\n",
    "        xytext=(10, -5),\n",
    "        textcoords=\"offset points\",\n",
    "        family=\"sans-serif\",\n",
    "        fontsize=7,\n",
    "        color=\"darkslategrey\",\n",
    "    )"
   ]
  },
  {
   "cell_type": "code",
   "execution_count": null,
   "id": "a9029f93",
   "metadata": {},
   "outputs": [],
   "source": []
  },
  {
   "cell_type": "code",
   "execution_count": null,
   "id": "e0d7ddec",
   "metadata": {},
   "outputs": [],
   "source": []
  }
 ],
 "metadata": {
  "kernelspec": {
   "display_name": "face_tracker",
   "language": "python",
   "name": "face_tracker"
  },
  "language_info": {
   "codemirror_mode": {
    "name": "ipython",
    "version": 3
   },
   "file_extension": ".py",
   "mimetype": "text/x-python",
   "name": "python",
   "nbconvert_exporter": "python",
   "pygments_lexer": "ipython3",
   "version": "3.9.16"
  }
 },
 "nbformat": 4,
 "nbformat_minor": 5
}
