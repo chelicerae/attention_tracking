{
 "cells": [
  {
   "cell_type": "code",
   "execution_count": 28,
   "id": "b6dcab43",
   "metadata": {},
   "outputs": [
    {
     "data": {
      "application/javascript": [
       "\n",
       "            setTimeout(function() {\n",
       "                var nbb_cell_id = 28;\n",
       "                var nbb_unformatted_code = \"%load_ext nb_black\";\n",
       "                var nbb_formatted_code = \"%load_ext nb_black\";\n",
       "                var nbb_cells = Jupyter.notebook.get_cells();\n",
       "                for (var i = 0; i < nbb_cells.length; ++i) {\n",
       "                    if (nbb_cells[i].input_prompt_number == nbb_cell_id) {\n",
       "                        if (nbb_cells[i].get_text() == nbb_unformatted_code) {\n",
       "                             nbb_cells[i].set_text(nbb_formatted_code);\n",
       "                        }\n",
       "                        break;\n",
       "                    }\n",
       "                }\n",
       "            }, 500);\n",
       "            "
      ],
      "text/plain": [
       "<IPython.core.display.Javascript object>"
      ]
     },
     "metadata": {},
     "output_type": "display_data"
    }
   ],
   "source": [
    "%load_ext nb_black"
   ]
  },
  {
   "cell_type": "code",
   "execution_count": 58,
   "id": "9a8d3ab4",
   "metadata": {},
   "outputs": [
    {
     "data": {
      "application/javascript": [
       "\n",
       "            setTimeout(function() {\n",
       "                var nbb_cell_id = 58;\n",
       "                var nbb_unformatted_code = \"import pandas as pd\\nimport json\\n\\nimport matplotlib.pyplot as plt\\nfrom matplotlib import cm\";\n",
       "                var nbb_formatted_code = \"import pandas as pd\\nimport json\\n\\nimport matplotlib.pyplot as plt\\nfrom matplotlib import cm\";\n",
       "                var nbb_cells = Jupyter.notebook.get_cells();\n",
       "                for (var i = 0; i < nbb_cells.length; ++i) {\n",
       "                    if (nbb_cells[i].input_prompt_number == nbb_cell_id) {\n",
       "                        if (nbb_cells[i].get_text() == nbb_unformatted_code) {\n",
       "                             nbb_cells[i].set_text(nbb_formatted_code);\n",
       "                        }\n",
       "                        break;\n",
       "                    }\n",
       "                }\n",
       "            }, 500);\n",
       "            "
      ],
      "text/plain": [
       "<IPython.core.display.Javascript object>"
      ]
     },
     "metadata": {},
     "output_type": "display_data"
    }
   ],
   "source": [
    "import pandas as pd\n",
    "import json\n",
    "\n",
    "import matplotlib.pyplot as plt\n",
    "from matplotlib import cm"
   ]
  },
  {
   "cell_type": "code",
   "execution_count": 6,
   "id": "bd7a0cd1",
   "metadata": {},
   "outputs": [],
   "source": [
    "def read_face_data_record(record: dict) -> dict:\n",
    "    return {\n",
    "        \"is_face_detected\": record[\"is_face_detected\"],\n",
    "        \"angry\": record[\"emotions\"][\"angry\"],\n",
    "        \"disgust\": record[\"emotions\"][\"disgust\"],\n",
    "        \"fear\": record[\"emotions\"][\"fear\"],\n",
    "        \"happy\": record[\"emotions\"][\"happy\"],\n",
    "        \"sad\": record[\"emotions\"][\"sad\"],\n",
    "        \"neutral\": record[\"emotions\"][\"neutral\"],\n",
    "        \"head_turn\": record[\"head_turn\"],\n",
    "        \"eyes_closed\": record[\"eyes_closed\"],\n",
    "    }"
   ]
  },
  {
   "cell_type": "code",
   "execution_count": 7,
   "id": "4e6ecaba",
   "metadata": {},
   "outputs": [],
   "source": [
    "def get_signal_df_list(data_files: list) -> list:\n",
    "    face_data_signals = []\n",
    "    for data_file in data_files:\n",
    "        with open(data_file) as f:\n",
    "            face_data = pd.DataFrame(\n",
    "                [read_face_data_record(json.loads(line)) for line in f]\n",
    "            )\n",
    "        face_data_signals.append(face_data)\n",
    "    return face_data_signals"
   ]
  },
  {
   "cell_type": "code",
   "execution_count": 9,
   "id": "fd64b7cc",
   "metadata": {},
   "outputs": [],
   "source": [
    "def merge_on_metric(\n",
    "    face_data_signals: list,\n",
    "    attr_name: str,\n",
    "    column_names: list,\n",
    "    smoothing_window: int,\n",
    "    min_len: int,\n",
    ") -> pd.DataFrame:\n",
    "    res_df = (\n",
    "        pd.DataFrame(\n",
    "            [face_data[attr_name][:min_len] for face_data in face_data_signals],\n",
    "        )\n",
    "        .T.ewm(span=smoothing_window)\n",
    "        .mean()\n",
    "    )\n",
    "    res_df.columns = column_names\n",
    "    return res_df"
   ]
  },
  {
   "cell_type": "code",
   "execution_count": 11,
   "id": "e383fc91",
   "metadata": {},
   "outputs": [
    {
     "data": {
      "text/plain": [
       "3758"
      ]
     },
     "execution_count": 11,
     "metadata": {},
     "output_type": "execute_result"
    }
   ],
   "source": [
    "min_len = min([face_data_signal.shape[0] for face_data_signal in face_data_signals])\n",
    "min_len"
   ]
  },
  {
   "cell_type": "code",
   "execution_count": 93,
   "id": "6a375491",
   "metadata": {},
   "outputs": [
    {
     "data": {
      "application/javascript": [
       "\n",
       "            setTimeout(function() {\n",
       "                var nbb_cell_id = 93;\n",
       "                var nbb_unformatted_code = \"eyeblink_trashold = 2.5\";\n",
       "                var nbb_formatted_code = \"eyeblink_trashold = 2.5\";\n",
       "                var nbb_cells = Jupyter.notebook.get_cells();\n",
       "                for (var i = 0; i < nbb_cells.length; ++i) {\n",
       "                    if (nbb_cells[i].input_prompt_number == nbb_cell_id) {\n",
       "                        if (nbb_cells[i].get_text() == nbb_unformatted_code) {\n",
       "                             nbb_cells[i].set_text(nbb_formatted_code);\n",
       "                        }\n",
       "                        break;\n",
       "                    }\n",
       "                }\n",
       "            }, 500);\n",
       "            "
      ],
      "text/plain": [
       "<IPython.core.display.Javascript object>"
      ]
     },
     "metadata": {},
     "output_type": "display_data"
    }
   ],
   "source": [
    "eyeblink_trashold = 2.5"
   ]
  },
  {
   "cell_type": "code",
   "execution_count": 94,
   "id": "1d7c75b0",
   "metadata": {},
   "outputs": [
    {
     "data": {
      "application/javascript": [
       "\n",
       "            setTimeout(function() {\n",
       "                var nbb_cell_id = 94;\n",
       "                var nbb_unformatted_code = \"data_files = [\\n    \\\"uhmm_video_1.json\\\",\\n    \\\"uhmm_video_2.json\\\",\\n    \\\"uhmm_video_3.json\\\",\\n    \\\"uhmm_video_4.json\\\",\\n    \\\"face_data.json\\\",\\n    \\\"face_data2.json\\\",\\n    \\\"french_lesson.json\\\",\\n    \\\"fake_happy1.json\\\",\\n    \\\"fake_happy2.json\\\",\\n    \\\"fake_happy3.json\\\",\\n]\\n# data_files = [\\\"fake_happy1.json\\\", \\\"fake_happy2.json\\\", \\\"fake_happy3.json\\\"]\\nface_data_signals = get_signal_df_list(data_files)\";\n",
       "                var nbb_formatted_code = \"data_files = [\\n    \\\"uhmm_video_1.json\\\",\\n    \\\"uhmm_video_2.json\\\",\\n    \\\"uhmm_video_3.json\\\",\\n    \\\"uhmm_video_4.json\\\",\\n    \\\"face_data.json\\\",\\n    \\\"face_data2.json\\\",\\n    \\\"french_lesson.json\\\",\\n    \\\"fake_happy1.json\\\",\\n    \\\"fake_happy2.json\\\",\\n    \\\"fake_happy3.json\\\",\\n]\\n# data_files = [\\\"fake_happy1.json\\\", \\\"fake_happy2.json\\\", \\\"fake_happy3.json\\\"]\\nface_data_signals = get_signal_df_list(data_files)\";\n",
       "                var nbb_cells = Jupyter.notebook.get_cells();\n",
       "                for (var i = 0; i < nbb_cells.length; ++i) {\n",
       "                    if (nbb_cells[i].input_prompt_number == nbb_cell_id) {\n",
       "                        if (nbb_cells[i].get_text() == nbb_unformatted_code) {\n",
       "                             nbb_cells[i].set_text(nbb_formatted_code);\n",
       "                        }\n",
       "                        break;\n",
       "                    }\n",
       "                }\n",
       "            }, 500);\n",
       "            "
      ],
      "text/plain": [
       "<IPython.core.display.Javascript object>"
      ]
     },
     "metadata": {},
     "output_type": "display_data"
    }
   ],
   "source": [
    "data_files = [\n",
    "    \"uhmm_video_1.json\",\n",
    "    \"uhmm_video_2.json\",\n",
    "    \"uhmm_video_3.json\",\n",
    "    \"uhmm_video_4.json\",\n",
    "    \"face_data.json\",\n",
    "    \"face_data2.json\",\n",
    "    \"french_lesson.json\",\n",
    "    \"fake_happy1.json\",\n",
    "    \"fake_happy2.json\",\n",
    "    \"fake_happy3.json\",\n",
    "]\n",
    "# data_files = [\"fake_happy1.json\", \"fake_happy2.json\", \"fake_happy3.json\"]\n",
    "face_data_signals = get_signal_df_list(data_files)"
   ]
  },
  {
   "cell_type": "code",
   "execution_count": 95,
   "id": "a2e5fc5f",
   "metadata": {},
   "outputs": [
    {
     "data": {
      "text/html": [
       "<div>\n",
       "<style scoped>\n",
       "    .dataframe tbody tr th:only-of-type {\n",
       "        vertical-align: middle;\n",
       "    }\n",
       "\n",
       "    .dataframe tbody tr th {\n",
       "        vertical-align: top;\n",
       "    }\n",
       "\n",
       "    .dataframe thead th {\n",
       "        text-align: right;\n",
       "    }\n",
       "</style>\n",
       "<table border=\"1\" class=\"dataframe\">\n",
       "  <thead>\n",
       "    <tr style=\"text-align: right;\">\n",
       "      <th></th>\n",
       "      <th>uhmm_video_1.json</th>\n",
       "      <th>uhmm_video_2.json</th>\n",
       "      <th>uhmm_video_3.json</th>\n",
       "      <th>uhmm_video_4.json</th>\n",
       "      <th>face_data.json</th>\n",
       "      <th>face_data2.json</th>\n",
       "      <th>french_lesson.json</th>\n",
       "      <th>fake_happy1.json</th>\n",
       "      <th>fake_happy2.json</th>\n",
       "      <th>fake_happy3.json</th>\n",
       "    </tr>\n",
       "  </thead>\n",
       "  <tbody>\n",
       "    <tr>\n",
       "      <th>0</th>\n",
       "      <td>1.887442</td>\n",
       "      <td>1.873390</td>\n",
       "      <td>1.770862</td>\n",
       "      <td>2.299422</td>\n",
       "      <td>1.921881</td>\n",
       "      <td>1.923602</td>\n",
       "      <td>1.803908</td>\n",
       "      <td>2.048678</td>\n",
       "      <td>1.956155</td>\n",
       "      <td>2.180537</td>\n",
       "    </tr>\n",
       "    <tr>\n",
       "      <th>1</th>\n",
       "      <td>1.755186</td>\n",
       "      <td>2.055892</td>\n",
       "      <td>2.017587</td>\n",
       "      <td>2.174038</td>\n",
       "      <td>1.846169</td>\n",
       "      <td>1.525109</td>\n",
       "      <td>1.950497</td>\n",
       "      <td>2.044005</td>\n",
       "      <td>2.095823</td>\n",
       "      <td>2.182409</td>\n",
       "    </tr>\n",
       "    <tr>\n",
       "      <th>2</th>\n",
       "      <td>1.761789</td>\n",
       "      <td>2.103807</td>\n",
       "      <td>1.923946</td>\n",
       "      <td>2.191412</td>\n",
       "      <td>2.172493</td>\n",
       "      <td>1.946306</td>\n",
       "      <td>1.836789</td>\n",
       "      <td>2.004816</td>\n",
       "      <td>2.794762</td>\n",
       "      <td>2.675545</td>\n",
       "    </tr>\n",
       "    <tr>\n",
       "      <th>3</th>\n",
       "      <td>1.793831</td>\n",
       "      <td>1.733494</td>\n",
       "      <td>2.045365</td>\n",
       "      <td>2.087144</td>\n",
       "      <td>2.342909</td>\n",
       "      <td>2.208209</td>\n",
       "      <td>1.944947</td>\n",
       "      <td>2.440553</td>\n",
       "      <td>3.701865</td>\n",
       "      <td>2.480786</td>\n",
       "    </tr>\n",
       "    <tr>\n",
       "      <th>4</th>\n",
       "      <td>1.827751</td>\n",
       "      <td>1.903533</td>\n",
       "      <td>1.776010</td>\n",
       "      <td>1.700293</td>\n",
       "      <td>2.218430</td>\n",
       "      <td>2.425398</td>\n",
       "      <td>1.939682</td>\n",
       "      <td>3.104736</td>\n",
       "      <td>4.005730</td>\n",
       "      <td>2.694943</td>\n",
       "    </tr>\n",
       "  </tbody>\n",
       "</table>\n",
       "</div>"
      ],
      "text/plain": [
       "   uhmm_video_1.json  uhmm_video_2.json  uhmm_video_3.json  uhmm_video_4.json  \\\n",
       "0           1.887442           1.873390           1.770862           2.299422   \n",
       "1           1.755186           2.055892           2.017587           2.174038   \n",
       "2           1.761789           2.103807           1.923946           2.191412   \n",
       "3           1.793831           1.733494           2.045365           2.087144   \n",
       "4           1.827751           1.903533           1.776010           1.700293   \n",
       "\n",
       "   face_data.json  face_data2.json  french_lesson.json  fake_happy1.json  \\\n",
       "0        1.921881         1.923602            1.803908          2.048678   \n",
       "1        1.846169         1.525109            1.950497          2.044005   \n",
       "2        2.172493         1.946306            1.836789          2.004816   \n",
       "3        2.342909         2.208209            1.944947          2.440553   \n",
       "4        2.218430         2.425398            1.939682          3.104736   \n",
       "\n",
       "   fake_happy2.json  fake_happy3.json  \n",
       "0          1.956155          2.180537  \n",
       "1          2.095823          2.182409  \n",
       "2          2.794762          2.675545  \n",
       "3          3.701865          2.480786  \n",
       "4          4.005730          2.694943  "
      ]
     },
     "execution_count": 95,
     "metadata": {},
     "output_type": "execute_result"
    },
    {
     "data": {
      "application/javascript": [
       "\n",
       "            setTimeout(function() {\n",
       "                var nbb_cell_id = 95;\n",
       "                var nbb_unformatted_code = \"eye_blink_df = merge_on_metric(\\n    face_data_signals=face_data_signals,\\n    attr_name=\\\"eyes_closed\\\",\\n    column_names=data_files,\\n    smoothing_window=1,\\n    min_len=min_len,\\n)\\neye_blink_df.head()\";\n",
       "                var nbb_formatted_code = \"eye_blink_df = merge_on_metric(\\n    face_data_signals=face_data_signals,\\n    attr_name=\\\"eyes_closed\\\",\\n    column_names=data_files,\\n    smoothing_window=1,\\n    min_len=min_len,\\n)\\neye_blink_df.head()\";\n",
       "                var nbb_cells = Jupyter.notebook.get_cells();\n",
       "                for (var i = 0; i < nbb_cells.length; ++i) {\n",
       "                    if (nbb_cells[i].input_prompt_number == nbb_cell_id) {\n",
       "                        if (nbb_cells[i].get_text() == nbb_unformatted_code) {\n",
       "                             nbb_cells[i].set_text(nbb_formatted_code);\n",
       "                        }\n",
       "                        break;\n",
       "                    }\n",
       "                }\n",
       "            }, 500);\n",
       "            "
      ],
      "text/plain": [
       "<IPython.core.display.Javascript object>"
      ]
     },
     "metadata": {},
     "output_type": "display_data"
    }
   ],
   "source": [
    "eye_blink_df = merge_on_metric(\n",
    "    face_data_signals=face_data_signals,\n",
    "    attr_name=\"eyes_closed\",\n",
    "    column_names=data_files,\n",
    "    smoothing_window=1,\n",
    "    min_len=min_len,\n",
    ")\n",
    "eye_blink_df.head()"
   ]
  },
  {
   "cell_type": "code",
   "execution_count": 96,
   "id": "837df64c",
   "metadata": {},
   "outputs": [
    {
     "data": {
      "text/html": [
       "<div>\n",
       "<style scoped>\n",
       "    .dataframe tbody tr th:only-of-type {\n",
       "        vertical-align: middle;\n",
       "    }\n",
       "\n",
       "    .dataframe tbody tr th {\n",
       "        vertical-align: top;\n",
       "    }\n",
       "\n",
       "    .dataframe thead th {\n",
       "        text-align: right;\n",
       "    }\n",
       "</style>\n",
       "<table border=\"1\" class=\"dataframe\">\n",
       "  <thead>\n",
       "    <tr style=\"text-align: right;\">\n",
       "      <th></th>\n",
       "      <th>uhmm_video_1.json</th>\n",
       "      <th>uhmm_video_2.json</th>\n",
       "      <th>uhmm_video_3.json</th>\n",
       "      <th>uhmm_video_4.json</th>\n",
       "      <th>face_data.json</th>\n",
       "      <th>face_data2.json</th>\n",
       "      <th>french_lesson.json</th>\n",
       "      <th>fake_happy1.json</th>\n",
       "      <th>fake_happy2.json</th>\n",
       "      <th>fake_happy3.json</th>\n",
       "    </tr>\n",
       "  </thead>\n",
       "  <tbody>\n",
       "    <tr>\n",
       "      <th>count</th>\n",
       "      <td>3758.000000</td>\n",
       "      <td>3758.000000</td>\n",
       "      <td>3758.000000</td>\n",
       "      <td>3758.000000</td>\n",
       "      <td>3758.000000</td>\n",
       "      <td>3758.000000</td>\n",
       "      <td>3758.000000</td>\n",
       "      <td>3758.000000</td>\n",
       "      <td>3758.000000</td>\n",
       "      <td>3758.000000</td>\n",
       "    </tr>\n",
       "    <tr>\n",
       "      <th>mean</th>\n",
       "      <td>1.834569</td>\n",
       "      <td>1.850816</td>\n",
       "      <td>1.808021</td>\n",
       "      <td>1.790455</td>\n",
       "      <td>2.172519</td>\n",
       "      <td>2.075468</td>\n",
       "      <td>2.062228</td>\n",
       "      <td>2.338166</td>\n",
       "      <td>2.322113</td>\n",
       "      <td>4.366045</td>\n",
       "    </tr>\n",
       "    <tr>\n",
       "      <th>std</th>\n",
       "      <td>0.486281</td>\n",
       "      <td>0.391244</td>\n",
       "      <td>0.442260</td>\n",
       "      <td>0.357910</td>\n",
       "      <td>0.886624</td>\n",
       "      <td>0.491659</td>\n",
       "      <td>0.640843</td>\n",
       "      <td>0.971744</td>\n",
       "      <td>0.838789</td>\n",
       "      <td>0.979687</td>\n",
       "    </tr>\n",
       "    <tr>\n",
       "      <th>min</th>\n",
       "      <td>0.525584</td>\n",
       "      <td>0.555399</td>\n",
       "      <td>0.537465</td>\n",
       "      <td>0.448276</td>\n",
       "      <td>0.763564</td>\n",
       "      <td>0.271645</td>\n",
       "      <td>0.809179</td>\n",
       "      <td>1.480005</td>\n",
       "      <td>1.363646</td>\n",
       "      <td>1.378999</td>\n",
       "    </tr>\n",
       "    <tr>\n",
       "      <th>25%</th>\n",
       "      <td>1.678777</td>\n",
       "      <td>1.695890</td>\n",
       "      <td>1.626697</td>\n",
       "      <td>1.600522</td>\n",
       "      <td>1.813930</td>\n",
       "      <td>1.860658</td>\n",
       "      <td>1.849783</td>\n",
       "      <td>2.143037</td>\n",
       "      <td>2.108435</td>\n",
       "      <td>4.756585</td>\n",
       "    </tr>\n",
       "    <tr>\n",
       "      <th>50%</th>\n",
       "      <td>1.833839</td>\n",
       "      <td>1.816725</td>\n",
       "      <td>1.747493</td>\n",
       "      <td>1.764913</td>\n",
       "      <td>2.025435</td>\n",
       "      <td>2.063010</td>\n",
       "      <td>2.031400</td>\n",
       "      <td>2.143037</td>\n",
       "      <td>2.108435</td>\n",
       "      <td>4.756585</td>\n",
       "    </tr>\n",
       "    <tr>\n",
       "      <th>75%</th>\n",
       "      <td>1.984713</td>\n",
       "      <td>1.946221</td>\n",
       "      <td>1.891826</td>\n",
       "      <td>1.959889</td>\n",
       "      <td>2.317557</td>\n",
       "      <td>2.237683</td>\n",
       "      <td>2.193797</td>\n",
       "      <td>2.143037</td>\n",
       "      <td>2.108435</td>\n",
       "      <td>4.756585</td>\n",
       "    </tr>\n",
       "    <tr>\n",
       "      <th>max</th>\n",
       "      <td>21.122777</td>\n",
       "      <td>15.013371</td>\n",
       "      <td>6.389741</td>\n",
       "      <td>5.584036</td>\n",
       "      <td>25.613460</td>\n",
       "      <td>9.871633</td>\n",
       "      <td>17.266297</td>\n",
       "      <td>25.923290</td>\n",
       "      <td>17.905040</td>\n",
       "      <td>13.265874</td>\n",
       "    </tr>\n",
       "  </tbody>\n",
       "</table>\n",
       "</div>"
      ],
      "text/plain": [
       "       uhmm_video_1.json  uhmm_video_2.json  uhmm_video_3.json  \\\n",
       "count        3758.000000        3758.000000        3758.000000   \n",
       "mean            1.834569           1.850816           1.808021   \n",
       "std             0.486281           0.391244           0.442260   \n",
       "min             0.525584           0.555399           0.537465   \n",
       "25%             1.678777           1.695890           1.626697   \n",
       "50%             1.833839           1.816725           1.747493   \n",
       "75%             1.984713           1.946221           1.891826   \n",
       "max            21.122777          15.013371           6.389741   \n",
       "\n",
       "       uhmm_video_4.json  face_data.json  face_data2.json  french_lesson.json  \\\n",
       "count        3758.000000     3758.000000      3758.000000         3758.000000   \n",
       "mean            1.790455        2.172519         2.075468            2.062228   \n",
       "std             0.357910        0.886624         0.491659            0.640843   \n",
       "min             0.448276        0.763564         0.271645            0.809179   \n",
       "25%             1.600522        1.813930         1.860658            1.849783   \n",
       "50%             1.764913        2.025435         2.063010            2.031400   \n",
       "75%             1.959889        2.317557         2.237683            2.193797   \n",
       "max             5.584036       25.613460         9.871633           17.266297   \n",
       "\n",
       "       fake_happy1.json  fake_happy2.json  fake_happy3.json  \n",
       "count       3758.000000       3758.000000       3758.000000  \n",
       "mean           2.338166          2.322113          4.366045  \n",
       "std            0.971744          0.838789          0.979687  \n",
       "min            1.480005          1.363646          1.378999  \n",
       "25%            2.143037          2.108435          4.756585  \n",
       "50%            2.143037          2.108435          4.756585  \n",
       "75%            2.143037          2.108435          4.756585  \n",
       "max           25.923290         17.905040         13.265874  "
      ]
     },
     "execution_count": 96,
     "metadata": {},
     "output_type": "execute_result"
    },
    {
     "data": {
      "application/javascript": [
       "\n",
       "            setTimeout(function() {\n",
       "                var nbb_cell_id = 96;\n",
       "                var nbb_unformatted_code = \"eye_blink_df.describe()\";\n",
       "                var nbb_formatted_code = \"eye_blink_df.describe()\";\n",
       "                var nbb_cells = Jupyter.notebook.get_cells();\n",
       "                for (var i = 0; i < nbb_cells.length; ++i) {\n",
       "                    if (nbb_cells[i].input_prompt_number == nbb_cell_id) {\n",
       "                        if (nbb_cells[i].get_text() == nbb_unformatted_code) {\n",
       "                             nbb_cells[i].set_text(nbb_formatted_code);\n",
       "                        }\n",
       "                        break;\n",
       "                    }\n",
       "                }\n",
       "            }, 500);\n",
       "            "
      ],
      "text/plain": [
       "<IPython.core.display.Javascript object>"
      ]
     },
     "metadata": {},
     "output_type": "display_data"
    }
   ],
   "source": [
    "eye_blink_df.describe()"
   ]
  },
  {
   "cell_type": "code",
   "execution_count": 97,
   "id": "6b566037",
   "metadata": {},
   "outputs": [
    {
     "data": {
      "application/javascript": [
       "\n",
       "            setTimeout(function() {\n",
       "                var nbb_cell_id = 97;\n",
       "                var nbb_unformatted_code = \"eyeblink_distances = [\\n    pd.Series(eye_blink_df.index[eye_blink_df[column] > eyeblink_trashold])\\n    .diff()\\n    .fillna(0)\\n    for column in data_files\\n]\";\n",
       "                var nbb_formatted_code = \"eyeblink_distances = [\\n    pd.Series(eye_blink_df.index[eye_blink_df[column] > eyeblink_trashold])\\n    .diff()\\n    .fillna(0)\\n    for column in data_files\\n]\";\n",
       "                var nbb_cells = Jupyter.notebook.get_cells();\n",
       "                for (var i = 0; i < nbb_cells.length; ++i) {\n",
       "                    if (nbb_cells[i].input_prompt_number == nbb_cell_id) {\n",
       "                        if (nbb_cells[i].get_text() == nbb_unformatted_code) {\n",
       "                             nbb_cells[i].set_text(nbb_formatted_code);\n",
       "                        }\n",
       "                        break;\n",
       "                    }\n",
       "                }\n",
       "            }, 500);\n",
       "            "
      ],
      "text/plain": [
       "<IPython.core.display.Javascript object>"
      ]
     },
     "metadata": {},
     "output_type": "display_data"
    }
   ],
   "source": [
    "eyeblink_distances = [\n",
    "    pd.Series(eye_blink_df.index[eye_blink_df[column] > eyeblink_trashold])\n",
    "    .diff()\n",
    "    .fillna(0)\n",
    "    for column in data_files\n",
    "]"
   ]
  },
  {
   "cell_type": "code",
   "execution_count": 98,
   "id": "715576dd",
   "metadata": {},
   "outputs": [
    {
     "data": {
      "text/html": [
       "<div>\n",
       "<style scoped>\n",
       "    .dataframe tbody tr th:only-of-type {\n",
       "        vertical-align: middle;\n",
       "    }\n",
       "\n",
       "    .dataframe tbody tr th {\n",
       "        vertical-align: top;\n",
       "    }\n",
       "\n",
       "    .dataframe thead th {\n",
       "        text-align: right;\n",
       "    }\n",
       "</style>\n",
       "<table border=\"1\" class=\"dataframe\">\n",
       "  <thead>\n",
       "    <tr style=\"text-align: right;\">\n",
       "      <th></th>\n",
       "      <th>mean</th>\n",
       "      <th>std</th>\n",
       "    </tr>\n",
       "  </thead>\n",
       "  <tbody>\n",
       "    <tr>\n",
       "      <th>uhmm_video_1.json</th>\n",
       "      <td>41.440476</td>\n",
       "      <td>71.882828</td>\n",
       "    </tr>\n",
       "    <tr>\n",
       "      <th>uhmm_video_2.json</th>\n",
       "      <td>41.523810</td>\n",
       "      <td>84.029610</td>\n",
       "    </tr>\n",
       "    <tr>\n",
       "      <th>uhmm_video_3.json</th>\n",
       "      <td>23.980519</td>\n",
       "      <td>62.820365</td>\n",
       "    </tr>\n",
       "    <tr>\n",
       "      <th>uhmm_video_4.json</th>\n",
       "      <td>33.581818</td>\n",
       "      <td>74.863470</td>\n",
       "    </tr>\n",
       "    <tr>\n",
       "      <th>face_data.json</th>\n",
       "      <td>6.578947</td>\n",
       "      <td>20.525133</td>\n",
       "    </tr>\n",
       "    <tr>\n",
       "      <th>face_data2.json</th>\n",
       "      <td>11.869565</td>\n",
       "      <td>47.933536</td>\n",
       "    </tr>\n",
       "    <tr>\n",
       "      <th>french_lesson.json</th>\n",
       "      <td>20.638889</td>\n",
       "      <td>30.339193</td>\n",
       "    </tr>\n",
       "    <tr>\n",
       "      <th>fake_happy1.json</th>\n",
       "      <td>1.817967</td>\n",
       "      <td>4.157157</td>\n",
       "    </tr>\n",
       "    <tr>\n",
       "      <th>fake_happy2.json</th>\n",
       "      <td>1.635438</td>\n",
       "      <td>3.386571</td>\n",
       "    </tr>\n",
       "    <tr>\n",
       "      <th>fake_happy3.json</th>\n",
       "      <td>1.116231</td>\n",
       "      <td>1.430681</td>\n",
       "    </tr>\n",
       "  </tbody>\n",
       "</table>\n",
       "</div>"
      ],
      "text/plain": [
       "                         mean        std\n",
       "uhmm_video_1.json   41.440476  71.882828\n",
       "uhmm_video_2.json   41.523810  84.029610\n",
       "uhmm_video_3.json   23.980519  62.820365\n",
       "uhmm_video_4.json   33.581818  74.863470\n",
       "face_data.json       6.578947  20.525133\n",
       "face_data2.json     11.869565  47.933536\n",
       "french_lesson.json  20.638889  30.339193\n",
       "fake_happy1.json     1.817967   4.157157\n",
       "fake_happy2.json     1.635438   3.386571\n",
       "fake_happy3.json     1.116231   1.430681"
      ]
     },
     "execution_count": 98,
     "metadata": {},
     "output_type": "execute_result"
    },
    {
     "data": {
      "application/javascript": [
       "\n",
       "            setTimeout(function() {\n",
       "                var nbb_cell_id = 98;\n",
       "                var nbb_unformatted_code = \"mean_std_df = pd.DataFrame(\\n    [\\n        (eyeblink_distance.mean(), eyeblink_distance.std())\\n        for eyeblink_distance in eyeblink_distances\\n    ],\\n    columns=[\\\"mean\\\", \\\"std\\\"],\\n    index=data_files,\\n)\\nmean_std_df\";\n",
       "                var nbb_formatted_code = \"mean_std_df = pd.DataFrame(\\n    [\\n        (eyeblink_distance.mean(), eyeblink_distance.std())\\n        for eyeblink_distance in eyeblink_distances\\n    ],\\n    columns=[\\\"mean\\\", \\\"std\\\"],\\n    index=data_files,\\n)\\nmean_std_df\";\n",
       "                var nbb_cells = Jupyter.notebook.get_cells();\n",
       "                for (var i = 0; i < nbb_cells.length; ++i) {\n",
       "                    if (nbb_cells[i].input_prompt_number == nbb_cell_id) {\n",
       "                        if (nbb_cells[i].get_text() == nbb_unformatted_code) {\n",
       "                             nbb_cells[i].set_text(nbb_formatted_code);\n",
       "                        }\n",
       "                        break;\n",
       "                    }\n",
       "                }\n",
       "            }, 500);\n",
       "            "
      ],
      "text/plain": [
       "<IPython.core.display.Javascript object>"
      ]
     },
     "metadata": {},
     "output_type": "display_data"
    }
   ],
   "source": [
    "mean_std_df = pd.DataFrame(\n",
    "    [\n",
    "        (eyeblink_distance.mean(), eyeblink_distance.std())\n",
    "        for eyeblink_distance in eyeblink_distances\n",
    "    ],\n",
    "    columns=[\"mean\", \"std\"],\n",
    "    index=data_files,\n",
    ")\n",
    "mean_std_df"
   ]
  },
  {
   "cell_type": "code",
   "execution_count": 99,
   "id": "bbff4c5f",
   "metadata": {},
   "outputs": [
    {
     "data": {
      "application/javascript": [
       "\n",
       "            setTimeout(function() {\n",
       "                var nbb_cell_id = 99;\n",
       "                var nbb_unformatted_code = \"# mean_std_df.plot(x=\\\"mean\\\", y=\\\"std\\\", kind=\\\"scatter\\\")\";\n",
       "                var nbb_formatted_code = \"# mean_std_df.plot(x=\\\"mean\\\", y=\\\"std\\\", kind=\\\"scatter\\\")\";\n",
       "                var nbb_cells = Jupyter.notebook.get_cells();\n",
       "                for (var i = 0; i < nbb_cells.length; ++i) {\n",
       "                    if (nbb_cells[i].input_prompt_number == nbb_cell_id) {\n",
       "                        if (nbb_cells[i].get_text() == nbb_unformatted_code) {\n",
       "                             nbb_cells[i].set_text(nbb_formatted_code);\n",
       "                        }\n",
       "                        break;\n",
       "                    }\n",
       "                }\n",
       "            }, 500);\n",
       "            "
      ],
      "text/plain": [
       "<IPython.core.display.Javascript object>"
      ]
     },
     "metadata": {},
     "output_type": "display_data"
    }
   ],
   "source": [
    "# mean_std_df.plot(x=\"mean\", y=\"std\", kind=\"scatter\")"
   ]
  },
  {
   "cell_type": "code",
   "execution_count": 92,
   "id": "094bb665",
   "metadata": {},
   "outputs": [
    {
     "name": "stderr",
     "output_type": "stream",
     "text": [
      "/var/folders/sh/7hxrl8k913x6_bnwkr3k_m880000gn/T/ipykernel_59483/2500347495.py:5: MatplotlibDeprecationWarning: The get_cmap function was deprecated in Matplotlib 3.7 and will be removed two minor releases later. Use ``matplotlib.colormaps[name]`` or ``matplotlib.colormaps.get_cmap(obj)`` instead.\n",
      "  cmap = cm.get_cmap(\"Spectral\")\n"
     ]
    },
    {
     "data": {
      "image/png": "[encoded data removed]",
      "text/plain": [
       "<Figure size 640x480 with 1 Axes>"
      ]
     },
     "metadata": {},
     "output_type": "display_data"
    },
    {
     "data": {
      "application/javascript": [
       "\n",
       "            setTimeout(function() {\n",
       "                var nbb_cell_id = 92;\n",
       "                var nbb_unformatted_code = \"fig, ax = plt.subplots()\\nax.set_xlim([0, 250])\\nax.set_ylim([0, 250])\\n\\ncmap = cm.get_cmap(\\\"Spectral\\\")\\nmean_std_df.plot(\\n    \\\"mean\\\",\\n    \\\"std\\\",\\n    kind=\\\"scatter\\\",\\n    ax=ax,\\n    s=120,\\n    linewidth=0,\\n    c=range(len(mean_std_df)),\\n    colormap=cmap,\\n)\\n\\nfor k, v in mean_std_df.iterrows():\\n    ax.annotate(\\n        k,\\n        v,\\n        xytext=(10, -5),\\n        textcoords=\\\"offset points\\\",\\n        family=\\\"sans-serif\\\",\\n        fontsize=10,\\n        color=\\\"darkslategrey\\\",\\n    )\";\n",
       "                var nbb_formatted_code = \"fig, ax = plt.subplots()\\nax.set_xlim([0, 250])\\nax.set_ylim([0, 250])\\n\\ncmap = cm.get_cmap(\\\"Spectral\\\")\\nmean_std_df.plot(\\n    \\\"mean\\\",\\n    \\\"std\\\",\\n    kind=\\\"scatter\\\",\\n    ax=ax,\\n    s=120,\\n    linewidth=0,\\n    c=range(len(mean_std_df)),\\n    colormap=cmap,\\n)\\n\\nfor k, v in mean_std_df.iterrows():\\n    ax.annotate(\\n        k,\\n        v,\\n        xytext=(10, -5),\\n        textcoords=\\\"offset points\\\",\\n        family=\\\"sans-serif\\\",\\n        fontsize=10,\\n        color=\\\"darkslategrey\\\",\\n    )\";\n",
       "                var nbb_cells = Jupyter.notebook.get_cells();\n",
       "                for (var i = 0; i < nbb_cells.length; ++i) {\n",
       "                    if (nbb_cells[i].input_prompt_number == nbb_cell_id) {\n",
       "                        if (nbb_cells[i].get_text() == nbb_unformatted_code) {\n",
       "                             nbb_cells[i].set_text(nbb_formatted_code);\n",
       "                        }\n",
       "                        break;\n",
       "                    }\n",
       "                }\n",
       "            }, 500);\n",
       "            "
      ],
      "text/plain": [
       "<IPython.core.display.Javascript object>"
      ]
     },
     "metadata": {},
     "output_type": "display_data"
    }
   ],
   "source": [
    "fig, ax = plt.subplots()\n",
    "ax.set_xlim([0, 250])\n",
    "ax.set_ylim([0, 250])\n",
    "\n",
    "cmap = cm.get_cmap(\"Spectral\")\n",
    "mean_std_df.plot(\n",
    "    \"mean\",\n",
    "    \"std\",\n",
    "    kind=\"scatter\",\n",
    "    ax=ax,\n",
    "    s=120,\n",
    "    linewidth=0,\n",
    "    c=range(len(mean_std_df)),\n",
    "    colormap=cmap,\n",
    ")\n",
    "\n",
    "for k, v in mean_std_df.iterrows():\n",
    "    ax.annotate(\n",
    "        k,\n",
    "        v,\n",
    "        xytext=(10, -5),\n",
    "        textcoords=\"offset points\",\n",
    "        family=\"sans-serif\",\n",
    "        fontsize=10,\n",
    "        color=\"darkslategrey\",\n",
    "    )"
   ]
  },
  {
   "cell_type": "code",
   "execution_count": null,
   "id": "a9029f93",
   "metadata": {},
   "outputs": [],
   "source": []
  }
 ],
 "metadata": {
  "kernelspec": {
   "display_name": "face_tracker",
   "language": "python",
   "name": "face_tracker"
  },
  "language_info": {
   "codemirror_mode": {
    "name": "ipython",
    "version": 3
   },
   "file_extension": ".py",
   "mimetype": "text/x-python",
   "name": "python",
   "nbconvert_exporter": "python",
   "pygments_lexer": "ipython3",
   "version": "3.9.16"
  }
 },
 "nbformat": 4,
 "nbformat_minor": 5
}
